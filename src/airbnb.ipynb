{
 "cells": [
  {
   "cell_type": "markdown",
   "metadata": {},
   "source": [
    "Package Imports"
   ]
  },
  {
   "cell_type": "code",
   "execution_count": 5,
   "metadata": {},
   "outputs": [],
   "source": [
    "import numpy as np\n",
    "import pandas as pd\n",
    "import matplotlib.pyplot as plt\n",
    "import seaborn as sns\n",
    "\n",
    "from sklearn import linear_model\n",
    "from sklearn.linear_model import LinearRegression\n",
    "from sklearn.preprocessing import PolynomialFeatures\n",
    "from sklearn.decomposition import PCA\n",
    "from sklearn import metrics\n",
    "from sklearn.model_selection import train_test_split, cross_val_score\n",
    "\n",
    "import matplotlib.pyplot as plt"
   ]
  },
  {
   "cell_type": "markdown",
   "metadata": {},
   "source": [
    "Global Declarations"
   ]
  },
  {
   "cell_type": "code",
   "execution_count": 6,
   "metadata": {},
   "outputs": [],
   "source": [
    "DATA = '../data/data.csv'\n",
    "NEIGHBOURHOOD = []\n",
    "ROOM_TYPE = []"
   ]
  },
  {
   "cell_type": "markdown",
   "metadata": {},
   "source": [
    "Data Preprocessing"
   ]
  },
  {
   "cell_type": "code",
   "execution_count": 7,
   "metadata": {},
   "outputs": [],
   "source": [
    "#read data from csv file\n",
    "def read_data(file_name):\n",
    "    data = pd.read_csv(file_name)\n",
    "    return data "
   ]
  },
  {
   "cell_type": "code",
   "execution_count": 8,
   "metadata": {},
   "outputs": [],
   "source": [
    "def df_cleanup():\n",
    "    \n",
    "    df = pd.DataFrame(read_data(DATA))\n",
    "\n",
    "    df = df.drop(df[df.availability_365 < 1].index)\n",
    "    \n",
    "    df = df.drop('license', axis=1)\n",
    "    df = df.drop('last_review', axis=1)\n",
    "    df = df.drop('reviews_per_month', axis=1)\n",
    "    df = df.drop('calculated_host_listings_count', axis=1)\n",
    "    df = df.drop('minimum_nights', axis=1)\n",
    "    df = df.drop('number_of_reviews_ltm', axis=1)\n",
    "    df = df.drop('name', axis=1)\n",
    "    df = df.drop('host_name', axis=1)\n",
    "    df = df.drop('availability_365', axis=1)\n",
    "\n",
    "    df = df.replace('Studio', 0)\n",
    "    df = df.replace('No rating', -1)\n",
    "    df = df.replace('Not specified', -1)\n",
    "\n",
    "    df['bedrooms'] = pd.to_numeric(df['bedrooms'], errors='coerce')\n",
    "    df['rating'] = pd.to_numeric(df['rating'], errors='coerce')\n",
    "    df['baths'] = pd.to_numeric(df['baths'], errors='coerce')\n",
    "\n",
    "    df = df.replace('Manhattan', 1)\n",
    "    df = df.replace('Queens', 2)\n",
    "    df = df.replace('Staten Island', 3)\n",
    "    df = df.replace('Brooklyn', 4)\n",
    "    df = df.replace('Bronx', 5)\n",
    "\n",
    "    for i in df['neighbourhood']:\n",
    "        if i in NEIGHBOURHOOD:\n",
    "            df = df.replace(i, NEIGHBOURHOOD.index(i))\n",
    "        else:\n",
    "            NEIGHBOURHOOD.append(i)\n",
    "            df = df.replace(i, NEIGHBOURHOOD.index(i))\n",
    "    \n",
    "    room_type = []\n",
    "\n",
    "    for i in df['room_type']:\n",
    "        if i in ROOM_TYPE:\n",
    "            df = df.replace(i, ROOM_TYPE.index(i))\n",
    "        else:\n",
    "            ROOM_TYPE.append(i)\n",
    "            df = df.replace(i, ROOM_TYPE.index(i))\n",
    "\n",
    "    df['neighbourhood_group'] = pd.to_numeric(df['neighbourhood_group'], errors='coerce')\n",
    "    df['neighbourhood'] = pd.to_numeric(df['neighbourhood'], errors='coerce')\n",
    "    df['room_type'] = pd.to_numeric(df['room_type'], errors='coerce')\n",
    "\n",
    "    df.dropna(inplace=True)\n",
    "    df.drop_duplicates(inplace=True)\n",
    "    df = df[df['price'] <= 1000]\n",
    "\n",
    "    return df\n"
   ]
  },
  {
   "cell_type": "code",
   "execution_count": 9,
   "metadata": {},
   "outputs": [],
   "source": [
    "DF = df_cleanup()"
   ]
  },
  {
   "cell_type": "markdown",
   "metadata": {},
   "source": [
    "Dataframe Visualization"
   ]
  },
  {
   "cell_type": "code",
   "execution_count": 10,
   "metadata": {},
   "outputs": [
    {
     "name": "stdout",
     "output_type": "stream",
     "text": [
      "(17963, 13)\n",
      "id                       int64\n",
      "host_id                  int64\n",
      "neighbourhood_group      int64\n",
      "neighbourhood            int64\n",
      "latitude               float64\n",
      "longitude              float64\n",
      "room_type                int64\n",
      "price                  float64\n",
      "number_of_reviews        int64\n",
      "rating                 float64\n",
      "bedrooms                 int64\n",
      "beds                     int64\n",
      "baths                  float64\n",
      "dtype: object\n",
      "['Entire home/apt', 'Private room', 'Hotel room', 'Shared room']\n",
      "[\"Hell's Kitchen\", 'Chelsea', 'Washington Heights', 'Murray Hill', 'Williamsburg', 'Sunset Park', 'Astoria', 'Financial District', 'Midtown', 'Upper West Side', 'Concourse Village', 'Flushing', 'Greenpoint', 'Cypress Hills', \"Prince's Bay\", 'Port Richmond', 'East Village', 'Clason Point', 'Bedford-Stuyvesant', 'Gravesend', 'Long Island City', 'Gramercy', 'East Flatbush', 'Kensington', 'St. George', 'South Ozone Park', 'Wakefield', 'Forest Hills', 'Springfield Gardens', 'North Riverdale', 'Belmont', 'Corona', 'Tremont', 'Flatbush', 'West Village', 'Elmhurst', 'Queens Village', 'Harlem', 'Bushwick', 'Sunnyside', 'Boerum Hill', 'Upper East Side', 'Crown Heights', 'Richmond Hill', 'Kips Bay', 'East Harlem', 'Morningside Heights', 'Flatlands', 'St. Albans', 'Bay Ridge', 'SoHo', 'Lower East Side', 'West Brighton', 'Parkchester', 'Brownsville', 'Woodside', 'Ozone Park', 'Clinton Hill', 'Jackson Heights', 'Kew Gardens', 'Park Slope', 'Prospect Heights', 'Jamaica', 'Arrochar', 'Kew Gardens Hills', 'Laurelton', 'Morris Park', 'Rosedale', 'Arverne', 'Woodhaven', 'Norwood', 'East Elmhurst', 'Rosebank', 'Tompkinsville', 'East New York', 'Far Rockaway', 'Edenwald', 'Baychester', 'Canarsie', 'Ridgewood', 'Williamsbridge', 'Kingsbridge', 'Rego Park', 'Sheepshead Bay', 'Ditmars Steinway', 'Melrose', 'Fort Greene', 'DUMBO', 'Theater District', 'Tribeca', 'Civic Center', 'Chinatown', 'Flatiron District', 'Nolita', 'Little Italy', 'Fresh Meadows', 'Glendale', 'West Farms', 'Prospect-Lefferts Gardens', 'Carroll Gardens', 'Mount Hope', 'Gowanus', 'Windsor Terrace', 'Downtown Brooklyn', 'Maspeth', 'South Slope', 'University Heights', \"Bull's Head\", 'Navy Yard', 'Stuyvesant Town', 'Dyker Heights', 'Rockaway Beach', 'Oakwood', 'Bath Beach', 'Morris Heights', 'Inwood', 'Cobble Hill', 'Jamaica Estates', 'Brighton Beach', 'Brooklyn Heights', 'Vinegar Hill', 'Mott Haven', 'Greenwich Village', 'East Morrisania', 'Midwood', 'College Point', 'Coney Island', 'Arden Heights', 'Bensonhurst', 'Red Hook', 'Howard Beach', 'Borough Park', 'Throgs Neck', 'Cambria Heights', 'Battery Park City', 'Roosevelt Island', 'Bayside', 'Briarwood', 'Allerton', 'Shore Acres', 'Fordham', 'Whitestone', 'Castle Hill', 'Bergen Beach', 'Unionport', 'Bayswater', 'Port Morris', 'Middle Village', 'NoHo', 'Bellerose', 'Mount Eden', 'Pelham Bay', 'Mill Basin', 'Eltingville', 'Woodrow', 'Clifton', 'Fort Hamilton', 'New Dorp Beach', 'Grant City', 'Edgemere', 'Lighthouse Hill', 'South Beach', 'Rossville', 'Randall Manor', 'Belle Harbor', 'New Brighton', 'Jamaica Hills', 'Emerson Hill', 'Van Nest', 'Westchester Square', 'Spuyten Duyvil', 'Mariners Harbor', 'Midland Beach', 'Concourse', 'Tottenville', 'Hunts Point', 'Schuylerville', 'Hollis', 'Longwood', 'Marble Hill', 'Co-op City', 'Stapleton', 'Claremont Village', 'Two Bridges', 'Concord', 'Holliswood', 'Dongan Hills', 'City Island', 'Eastchester', 'Columbia St', 'Bronxdale', 'Douglaston', 'Pelham Gardens', 'Olinville', 'Fieldston', 'Morrisania', 'Highbridge', 'Richmondtown', 'Woodlawn', 'Bay Terrace', 'Huguenot', 'Manhattan Beach', 'Silver Lake', 'Castleton Corners', 'Howland Hook', 'Gerritsen Beach', 'Graniteville', 'Riverdale', 'Great Kills', 'Sea Gate', 'New Springville', 'Grymes Hill', 'Soundview', 'Breezy Point', 'Westerleigh', 'Bay Terrace, Staten Island', 'Little Neck', 'Todt Hill', 'Neponsit', 'Willowbrook', 'Chelsea, Staten Island']\n",
      "                       id    host_id  neighbourhood_group  neighbourhood  \\\n",
      "1                45277537   51501835                    1              0   \n",
      "2      971353993633883038  528871354                    1              1   \n",
      "3                 3857863   19902271                    1              2   \n",
      "4                40896611   61391963                    1              3   \n",
      "5                49584983   51501835                    1              0   \n",
      "...                   ...        ...                  ...            ...   \n",
      "20750  791754056397616680  429183811                    1             51   \n",
      "20751            15767741   22541573                    1             34   \n",
      "20752  897176430920178886   15828752                    1              8   \n",
      "20753            24736896  186680487                    1             51   \n",
      "20756  782661008019550832  163083101                    1             91   \n",
      "\n",
      "        latitude  longitude  room_type  price  number_of_reviews  rating  \\\n",
      "1      40.766610 -73.988100          0  144.0                  9    4.67   \n",
      "2      40.750764 -73.994605          0  187.0                  6    4.17   \n",
      "3      40.835600 -73.942500          1  120.0                156    4.64   \n",
      "4      40.751120 -73.978600          0   85.0                 11    4.91   \n",
      "5      40.759950 -73.992960          0  115.0                  5    5.00   \n",
      "...          ...        ...        ...    ...                ...     ...   \n",
      "20750  40.716593 -73.987383          1   79.0                  6    5.00   \n",
      "20751  40.731810 -74.008190          0  215.0                  1   -1.00   \n",
      "20752  40.764520 -73.977920          0  140.0                  1   -1.00   \n",
      "20753  40.711380 -73.991560          1   45.0                124    4.75   \n",
      "20756  40.713750 -73.991470          0  115.0                  7    5.00   \n",
      "\n",
      "       bedrooms  beds  baths  \n",
      "1             2     1    1.0  \n",
      "2             1     2    1.0  \n",
      "3             1     1    1.0  \n",
      "4             0     1    1.0  \n",
      "5             1     1    1.0  \n",
      "...         ...   ...    ...  \n",
      "20750         1     1   -1.0  \n",
      "20751         1     1    1.0  \n",
      "20752         1     1    1.0  \n",
      "20753         1     1    1.0  \n",
      "20756         1     1    1.0  \n",
      "\n",
      "[17963 rows x 13 columns]\n"
     ]
    }
   ],
   "source": [
    "print(DF.shape)\n",
    "print(DF.dtypes)\n",
    "print(ROOM_TYPE)\n",
    "print(NEIGHBOURHOOD)\n",
    "print(DF)"
   ]
  },
  {
   "cell_type": "code",
   "execution_count": 11,
   "metadata": {},
   "outputs": [
    {
     "name": "stdout",
     "output_type": "stream",
     "text": [
      "No entries with price > 3000\n"
     ]
    }
   ],
   "source": [
    "#chech if there is entries with price > 3000\n",
    "def check_price(df):\n",
    "    if df[df['price'] > 3000].empty:\n",
    "        print(\"No entries with price > 3000\")\n",
    "    else:\n",
    "        print(\"There are entries with price > 3000\")\n",
    "        print(df[df['price'] > 3000])\n",
    "\n",
    "check_price(DF)"
   ]
  },
  {
   "cell_type": "code",
   "execution_count": 12,
   "metadata": {},
   "outputs": [
    {
     "name": "stdout",
     "output_type": "stream",
     "text": [
      "(17963, 13)\n",
      "id                       int64\n",
      "host_id                  int64\n",
      "neighbourhood_group      int64\n",
      "neighbourhood            int64\n",
      "latitude               float64\n",
      "longitude              float64\n",
      "room_type                int64\n",
      "price                  float64\n",
      "number_of_reviews        int64\n",
      "rating                 float64\n",
      "bedrooms                 int64\n",
      "beds                     int64\n",
      "baths                  float64\n",
      "dtype: object\n",
      "                       id    host_id  neighbourhood_group  neighbourhood  \\\n",
      "1                45277537   51501835                    1              0   \n",
      "2      971353993633883038  528871354                    1              1   \n",
      "3                 3857863   19902271                    1              2   \n",
      "4                40896611   61391963                    1              3   \n",
      "5                49584983   51501835                    1              0   \n",
      "...                   ...        ...                  ...            ...   \n",
      "20750  791754056397616680  429183811                    1             51   \n",
      "20751            15767741   22541573                    1             34   \n",
      "20752  897176430920178886   15828752                    1              8   \n",
      "20753            24736896  186680487                    1             51   \n",
      "20756  782661008019550832  163083101                    1             91   \n",
      "\n",
      "        latitude  longitude  room_type  price  number_of_reviews  rating  \\\n",
      "1      40.766610 -73.988100          0  144.0                  9    4.67   \n",
      "2      40.750764 -73.994605          0  187.0                  6    4.17   \n",
      "3      40.835600 -73.942500          1  120.0                156    4.64   \n",
      "4      40.751120 -73.978600          0   85.0                 11    4.91   \n",
      "5      40.759950 -73.992960          0  115.0                  5    5.00   \n",
      "...          ...        ...        ...    ...                ...     ...   \n",
      "20750  40.716593 -73.987383          1   79.0                  6    5.00   \n",
      "20751  40.731810 -74.008190          0  215.0                  1   -1.00   \n",
      "20752  40.764520 -73.977920          0  140.0                  1   -1.00   \n",
      "20753  40.711380 -73.991560          1   45.0                124    4.75   \n",
      "20756  40.713750 -73.991470          0  115.0                  7    5.00   \n",
      "\n",
      "       bedrooms  beds  baths  \n",
      "1             2     1    1.0  \n",
      "2             1     2    1.0  \n",
      "3             1     1    1.0  \n",
      "4             0     1    1.0  \n",
      "5             1     1    1.0  \n",
      "...         ...   ...    ...  \n",
      "20750         1     1   -1.0  \n",
      "20751         1     1    1.0  \n",
      "20752         1     1    1.0  \n",
      "20753         1     1    1.0  \n",
      "20756         1     1    1.0  \n",
      "\n",
      "[17963 rows x 13 columns]\n"
     ]
    }
   ],
   "source": [
    "X = DF.drop('price', axis = 1)\n",
    "X = X.drop('id', axis = 1)\n",
    "y = DF[['price']]\n",
    "\n",
    "print(DF.shape)\n",
    "print(DF.dtypes)\n",
    "print(DF)"
   ]
  },
  {
   "cell_type": "markdown",
   "metadata": {},
   "source": [
    "### Polynomial Regression"
   ]
  },
  {
   "cell_type": "code",
   "execution_count": 13,
   "metadata": {},
   "outputs": [
    {
     "name": "stdout",
     "output_type": "stream",
     "text": [
      "Intercept:  [159.79895752]\n",
      "      Actual value  Predicted value\n",
      "4             85.0       159.507218\n",
      "6            105.0       159.912925\n",
      "7            130.0       159.763439\n",
      "12           100.0       156.614207\n",
      "15          1000.0       159.731030\n",
      "...            ...              ...\n",
      "5381          50.0       159.760351\n",
      "5383          34.0       159.741208\n",
      "5384         616.0       159.211427\n",
      "5385         155.0       159.763219\n",
      "5387          69.0       159.728450\n",
      "\n",
      "[1371 rows x 2 columns]\n"
     ]
    }
   ],
   "source": [
    "# from sklearn.model_selection import kfold\n",
    "pca = PCA(n_components=2)\n",
    "PolynomialFeatures(degree=3, include_bias=False)\n",
    "\n",
    "poly = PolynomialFeatures(degree=3, include_bias=False)\n",
    "\n",
    "poly_features = poly.fit_transform(X)\n",
    "poly_features = pca.fit_transform(poly_features)\n",
    "\n",
    "# k = 5\n",
    "# kf = kfold.KFold(n_splits=k, shuffle=True)\n",
    "\n",
    "X_train,X_test, y_train, y_test = train_test_split(poly_features, y, test_size = 0.3)\n",
    "\n",
    "reg_model = linear_model.LinearRegression()\n",
    "reg_model = LinearRegression().fit(X_train, y_train)\n",
    "\n",
    "print('Intercept: ',reg_model.intercept_)\n",
    "list(zip(X, reg_model.coef_))\n",
    "\n",
    "y_pred= reg_model.predict(X_test)  \n",
    "x_pred= reg_model.predict(X_train)\n",
    "\n",
    "y_test = pd.DataFrame(y_test)\n",
    "y_pred = pd.DataFrame(y_pred)\n",
    "\n",
    "reg_model_diff = pd.DataFrame({'Actual value': y_test.iloc[:, 0], 'Predicted value': y_pred.iloc[:, 0]})\n",
    "reg_model_diff.dropna(inplace=True)\n",
    "print(reg_model_diff)"
   ]
  },
  {
   "cell_type": "markdown",
   "metadata": {},
   "source": [
    "### SVM regression"
   ]
  },
  {
   "cell_type": "code",
   "execution_count": null,
   "metadata": {},
   "outputs": [
    {
     "name": "stderr",
     "output_type": "stream",
     "text": [
      "/Users/augustpallesen/opt/anaconda3/lib/python3.9/site-packages/sklearn/utils/validation.py:993: DataConversionWarning: A column-vector y was passed when a 1d array was expected. Please change the shape of y to (n_samples, ), for example using ravel().\n",
      "  y = column_or_1d(y, warn=True)\n"
     ]
    }
   ],
   "source": [
    "from sklearn import svm\n",
    "\n",
    "regr = svm.SVR(kernel='linear')\n",
    "\n",
    "X_train, X_test, y_train, y_test = train_test_split(X, y, test_size=0.2)\n",
    "\n",
    "regr.fit(X_train, y_train)\n",
    "\n",
    "y_pred = regr.predict(X_test)\n",
    "\n",
    "print('SVM model score: ', regr.score(X_test, y_test))"
   ]
  },
  {
   "cell_type": "code",
   "execution_count": 51,
   "metadata": {},
   "outputs": [
    {
     "name": "stdout",
     "output_type": "stream",
     "text": [
      "Mean Squared Error: 16963.964231747388\n",
      "Mean Absolute Error: 86.97421482301809\n",
      "Root Mean Squared Error: 130.2457839307952\n",
      "R^2 score: 0.00045819858995921336\n"
     ]
    }
   ],
   "source": [
    "#evcaluation metrics\n",
    "from sklearn import metrics\n",
    "print('Mean Squared Error:', metrics.mean_squared_error(y_test, y_pred))\n",
    "print('Mean Absolute Error:', metrics.mean_absolute_error(y_test, y_pred))\n",
    "print('Root Mean Squared Error:', np.sqrt(metrics.mean_squared_error(y_test, y_pred)))\n",
    "print('R^2 score:', metrics.r2_score(y_test, y_pred))"
   ]
  },
  {
   "cell_type": "markdown",
   "metadata": {},
   "source": [
    "Correlation Matrix"
   ]
  },
  {
   "cell_type": "code",
   "execution_count": 44,
   "metadata": {},
   "outputs": [],
   "source": [
    "# numerical_columns = DF.select_dtypes(include='number')\n",
    "# correlation_matrix = numerical_columns.corr()\n",
    "# # Heatmap\n",
    "# plt.figure(figsize=(10, 6))\n",
    "# sns.heatmap(correlation_matrix, annot=True, cmap='coolwarm', fmt=\".2f\", linewidths=0.5)\n",
    "# plt.title('Correlation Matrix of Numerical Features')\n",
    "# plt.xticks(rotation = 25)\n",
    "# plt.show()"
   ]
  },
  {
   "cell_type": "code",
   "execution_count": 52,
   "metadata": {},
   "outputs": [
    {
     "data": {
      "image/png": "[encoded data removed]",
      "text/plain": [
       "<Figure size 1000x600 with 1 Axes>"
      ]
     },
     "metadata": {},
     "output_type": "display_data"
    }
   ],
   "source": [
    "plt.figure(figsize=(10, 6))\n",
    "plt.scatter(reg_model_diff.iloc[:, 0], reg_model_diff.iloc[:, 1])\n",
    "plt.title(\"Price Predict\")\n",
    "plt.xlabel('Actual Value')\n",
    "plt.ylabel('Predicted Value')\n",
    "plt.show()"
   ]
  }
 ],
 "metadata": {
  "kernelspec": {
   "display_name": "base",
   "language": "python",
   "name": "python3"
  },
  "language_info": {
   "codemirror_mode": {
    "name": "ipython",
    "version": 3
   },
   "file_extension": ".py",
   "mimetype": "text/x-python",
   "name": "python",
   "nbconvert_exporter": "python",
   "pygments_lexer": "ipython3",
   "version": "3.9.13"
  }
 },
 "nbformat": 4,
 "nbformat_minor": 2
}
